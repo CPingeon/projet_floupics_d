{
 "cells": [
  {
   "cell_type": "code",
   "execution_count": 1,
   "metadata": {},
   "outputs": [],
   "source": [
    "import sqlite3"
   ]
  },
  {
   "cell_type": "code",
   "execution_count": 2,
   "metadata": {},
   "outputs": [],
   "source": [
    "db = sqlite3.connect('BaseDeDonnéeMovies.db')\n",
    "\n",
    "cursor = db.cursor()"
   ]
  },
  {
   "cell_type": "markdown",
   "metadata": {},
   "source": [
    "### NOMBRE DE FILMS DANS LA TABLE movies"
   ]
  },
  {
   "cell_type": "code",
   "execution_count": 3,
   "metadata": {},
   "outputs": [
    {
     "name": "stdout",
     "output_type": "stream",
     "text": [
      "Nombre de Films 9742\n"
     ]
    }
   ],
   "source": [
    "db = sqlite3.connect(\"BaseDeDonnéeMovies.db\")\n",
    "    \n",
    "cursor = db.cursor()\n",
    "    \n",
    "cursor.execute(\"select COUNT(movieId) from movies\")\n",
    "\n",
    "resultat = cursor.fetchall()\n",
    "    \n",
    "for row in resultat: \n",
    "    print(\"Nombre de Films {}\".format(*row))\n",
    "    \n",
    "cursor.close()\n",
    "db.close()\n"
   ]
  },
  {
   "cell_type": "markdown",
   "metadata": {},
   "source": [
    "### NOMBRE DE FILMS PAR ANNEES"
   ]
  },
  {
   "cell_type": "code",
   "execution_count": 4,
   "metadata": {},
   "outputs": [
    {
     "name": "stdout",
     "output_type": "stream",
     "text": [
      "Nombre de Films 9742\n"
     ]
    }
   ],
   "source": [
    "db = sqlite3.connect(\"BaseDeDonnéeMovies.db\")\n",
    "    \n",
    "cursor = db.cursor()\n",
    "    \n",
    "cursor.execute(\"select COUNT(movieId) AS 'NbFimls' FROM movies\") ##CREER COLONNE YEARS DANS MOVIES ET SUBSTR\n",
    "\n",
    "resultat = cursor.fetchall()\n",
    "    \n",
    "for row in resultat: \n",
    "    print(\"Nombre de Films {}\".format(*row))\n",
    "    \n",
    "cursor.close()\n",
    "db.close()"
   ]
  },
  {
   "cell_type": "markdown",
   "metadata": {},
   "source": [
    "### TOP 10 CATEGORIE FILMS - NOMBRE DE FILMS PAR GENRE"
   ]
  },
  {
   "cell_type": "code",
   "execution_count": 5,
   "metadata": {},
   "outputs": [
    {
     "name": "stdout",
     "output_type": "stream",
     "text": [
      "Nombre Films 1053 ---> Drama\n",
      "Nombre Films 946 ---> Comedy\n",
      "Nombre Films 435 ---> Comedy|Drama\n",
      "Nombre Films 363 ---> Comedy|Romance\n",
      "Nombre Films 349 ---> Drama|Romance\n",
      "Nombre Films 339 ---> Documentary\n",
      "Nombre Films 276 ---> Comedy|Drama|Romance\n",
      "Nombre Films 168 ---> Drama|Thriller\n",
      "Nombre Films 167 ---> Horror\n",
      "Nombre Films 135 ---> Horror|Thriller\n"
     ]
    }
   ],
   "source": [
    "db = sqlite3.connect(\"BaseDeDonnéeMovies.db\")\n",
    "    \n",
    "cursor = db.cursor()\n",
    "    \n",
    "cursor.execute(\"SELECT COUNT(DISTINCT movieId) AS 'NbFilms', genres from movies WHERE genres IS NOT NULL GROUP BY genres ORDER BY NbFilms DESC LIMIT 10\")\n",
    "\n",
    "resultat = cursor.fetchall()\n",
    "    \n",
    "for row in resultat: \n",
    "    print(\"Nombre Films {} ---> {}\".format(*row))\n",
    "        \n",
    "cursor.close()\n",
    "db.close()"
   ]
  },
  {
   "cell_type": "markdown",
   "metadata": {},
   "source": [
    "### LES FILMS NOTES A 5"
   ]
  },
  {
   "cell_type": "code",
   "execution_count": 6,
   "metadata": {},
   "outputs": [
    {
     "name": "stdout",
     "output_type": "stream",
     "text": [
      "'Salem's Lot (2004) ---> 5\n",
      "'Til There Was You (1997) ---> 5\n",
      "'burbs, The (1989) ---> 5\n",
      "(500) Days of Summer (2009) ---> 5\n",
      "10 Cloverfield Lane (2016) ---> 5\n",
      "10 Things I Hate About You (1999) ---> 5\n",
      "101 Dalmatians (1996) ---> 5\n",
      "101 Dalmatians (One Hundred and One Dalmatians) (1961) ---> 5\n",
      "12 Angry Men (1957) ---> 5\n",
      "12 Angry Men (1997) ---> 5\n"
     ]
    }
   ],
   "source": [
    "\n",
    "db = sqlite3.connect(\"BaseDeDonnéeMovies.db\")\n",
    "    \n",
    "cursor = db.cursor()\n",
    "    \n",
    "cursor.execute(\"SELECT title, rating from movies Inner join ratings on movies.movieId=ratings.movieId WHERE rating=5 GROUP BY title limit 10\")\n",
    "\n",
    "resultat = cursor.fetchall()\n",
    "    \n",
    "for row in resultat: \n",
    "    print(\"{} ---> {}\".format(*row))\n",
    "        \n",
    "cursor.close()\n",
    "db.close()"
   ]
  },
  {
   "cell_type": "code",
   "execution_count": null,
   "metadata": {},
   "outputs": [],
   "source": []
  },
  {
   "cell_type": "code",
   "execution_count": null,
   "metadata": {},
   "outputs": [],
   "source": []
  }
 ],
 "metadata": {
  "kernelspec": {
   "display_name": "Python 3",
   "language": "python",
   "name": "python3"
  },
  "language_info": {
   "codemirror_mode": {
    "name": "ipython",
    "version": 3
   },
   "file_extension": ".py",
   "mimetype": "text/x-python",
   "name": "python",
   "nbconvert_exporter": "python",
   "pygments_lexer": "ipython3",
   "version": "3.8.6"
  }
 },
 "nbformat": 4,
 "nbformat_minor": 4
}
