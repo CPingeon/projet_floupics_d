{
 "cells": [
  {
   "cell_type": "code",
   "execution_count": 1,
   "metadata": {},
   "outputs": [],
   "source": [
    "import sqlite3"
   ]
  },
  {
   "cell_type": "markdown",
   "metadata": {},
   "source": [
    "### NOMBRE DE FILMS DANS LA TABLE movies "
   ]
  },
  {
   "cell_type": "code",
   "execution_count": 2,
   "metadata": {},
   "outputs": [
    {
     "name": "stdout",
     "output_type": "stream",
     "text": [
      "Nombre de Films 9742\n"
     ]
    }
   ],
   "source": [
    "db = sqlite3.connect(\"BaseDeDonnéeMovies.db\")\n",
    "    \n",
    "cursor = db.cursor()\n",
    "    \n",
    "cursor.execute('select COUNT(movieId) from movies')\n",
    "\n",
    "resultat = cursor.fetchall()\n",
    "    \n",
    "for row in resultat: \n",
    "    print(\"Nombre de Films {}\".format(*row))\n",
    "    \n",
    "cursor.close()\n",
    "db.close()\n"
   ]
  },
  {
   "cell_type": "markdown",
   "metadata": {},
   "source": [
    "### NOMBRE DE FILMS PAR ANNEES"
   ]
  },
  {
   "cell_type": "code",
   "execution_count": 3,
   "metadata": {},
   "outputs": [
    {
     "name": "stdout",
     "output_type": "stream",
     "text": [
      "La colonne est déjà\n",
      "La colonne a été créée\n"
     ]
    }
   ],
   "source": [
    "try:\n",
    "    db = sqlite3.connect(\"BaseDeDonnéeMovies.db\")\n",
    "    \n",
    "    cursor = db.cursor()\n",
    "    \n",
    "    cursor.execute('ALTER TABLE movies ADD year integer') #Création colonne year dans table movies\n",
    "\n",
    "    cursor.close()\n",
    "    db.close()\n",
    "    \n",
    "except:\n",
    "    \n",
    "    print(\"La colonne est déjà\")\n",
    "    exit(1)\n",
    "        \n",
    "print(\"La colonne a été créée\")"
   ]
  },
  {
   "cell_type": "code",
   "execution_count": 4,
   "metadata": {},
   "outputs": [
    {
     "name": "stdout",
     "output_type": "stream",
     "text": [
      "Insertion effectuée\n"
     ]
    }
   ],
   "source": [
    "try:\n",
    "    \n",
    "    db = sqlite3.connect(\"BaseDeDonnéeMovies.db\")\n",
    "    \n",
    "    cursor = db.cursor()\n",
    "    \n",
    "    cursor.execute('UPDATE movies SET year = substr(title, -6, 6)') # Transférer les Années dans colonne year\n",
    "\n",
    "    cursor.close()\n",
    "    db.close()\n",
    "    \n",
    "except: \n",
    "    \n",
    "    print(\"Une erreur est survenue survenue lors de l'insertion dans la base\")\n",
    "    exit(1)\n",
    "    \n",
    "print(\"Insertion effectuée\")"
   ]
  },
  {
   "cell_type": "code",
   "execution_count": 5,
   "metadata": {},
   "outputs": [
    {
     "name": "stdout",
     "output_type": "stream",
     "text": [
      "311 Films ---> (2002)\n",
      "295 Films ---> (2006)\n",
      "294 Films ---> (2001)\n",
      "283 Films ---> (2000)\n",
      "282 Films ---> (2009)\n",
      "282 Films ---> (2007)\n",
      "279 Films ---> (2004)\n",
      "279 Films ---> (2003)\n",
      "277 Films ---> (2014)\n",
      "276 Films ---> (1996)\n"
     ]
    }
   ],
   "source": [
    "db = sqlite3.connect(\"BaseDeDonnéeMovies.db\")\n",
    "    \n",
    "cursor = db.cursor()\n",
    "    \n",
    "cursor.execute(\"SELECT COUNT(DISTINCT movieId) AS 'NbFilms', year from movies WHERE year IS NOT NULL GROUP BY year ORDER BY NbFilms DESC LIMIT 10\")\n",
    "\n",
    "resultat = cursor.fetchall()\n",
    "    \n",
    "for row in resultat: \n",
    "    print(\"{} Films ---> {}\".format(*row))\n",
    "        \n",
    "cursor.close()\n",
    "db.close()"
   ]
  },
  {
   "cell_type": "markdown",
   "metadata": {},
   "source": [
    "### TOP 10 CATEGORIES - NOMBRE DE FILMS PAR GENRE"
   ]
  },
  {
   "cell_type": "code",
   "execution_count": 7,
   "metadata": {},
   "outputs": [
    {
     "name": "stdout",
     "output_type": "stream",
     "text": [
      "1053 Films ---> Drama\n",
      "946 Films ---> Comedy\n",
      "435 Films ---> Comedy|Drama\n",
      "363 Films ---> Comedy|Romance\n",
      "349 Films ---> Drama|Romance\n",
      "339 Films ---> Documentary\n",
      "276 Films ---> Comedy|Drama|Romance\n",
      "168 Films ---> Drama|Thriller\n",
      "167 Films ---> Horror\n",
      "135 Films ---> Horror|Thriller\n"
     ]
    }
   ],
   "source": [
    "db = sqlite3.connect(\"BaseDeDonnéeMovies.db\")\n",
    "    \n",
    "cursor = db.cursor()\n",
    "    \n",
    "cursor.execute(\"SELECT COUNT(DISTINCT movieId) AS 'NbFilms', genres from movies WHERE genres IS NOT NULL GROUP BY genres ORDER BY NbFilms DESC LIMIT 10\")\n",
    "\n",
    "resultat = cursor.fetchall()\n",
    "    \n",
    "for row in resultat: \n",
    "    print(\"{} Films ---> {}\".format(*row))\n",
    "        \n",
    "cursor.close()\n",
    "db.close()"
   ]
  },
  {
   "cell_type": "markdown",
   "metadata": {},
   "source": [
    "### LES FILMS DE 2018 DONT LA MOYENNE DEPASSE 4"
   ]
  },
  {
   "cell_type": "code",
   "execution_count": 39,
   "metadata": {},
   "outputs": [
    {
     "name": "stdout",
     "output_type": "stream",
     "text": [
      "Won't You Be My Neighbor? (2018) ---> 5.0\n",
      "Tom Segura: Disgraceful (2018) ---> 4.5\n",
      "The Man Who Killed Don Quixote (2018) ---> 4.5\n",
      "Sorry to Bother You (2018) ---> 4.5\n",
      "Mamma Mia: Here We Go Again! (2018) ---> 4.5\n",
      "Alpha (2018) ---> 4.5\n"
     ]
    }
   ],
   "source": [
    "db = sqlite3.connect(\"BaseDeDonnéeMovies.db\")\n",
    "    \n",
    "cursor = db.cursor()\n",
    "    \n",
    "cursor.execute(\"SELECT title, avg(rating)\\\n",
    "                FROM movies Inner join ratings on movies.movieId=ratings.movieId\\\n",
    "                WHERE year = '(2018)'\\\n",
    "                GROUP BY title\\\n",
    "                HAVING avg(rating) > 4\\\n",
    "                ORDER BY avg(rating) DESC\")\n",
    "\n",
    "resultat = cursor.fetchall()\n",
    "    \n",
    "for row in resultat: \n",
    "    print(\"{} ---> {}\".format(*row))\n",
    "        \n",
    "cursor.close()\n",
    "db.close()"
   ]
  },
  {
   "cell_type": "markdown",
   "metadata": {},
   "source": [
    "### LES FILMS NOTÉS 5"
   ]
  },
  {
   "cell_type": "code",
   "execution_count": 9,
   "metadata": {},
   "outputs": [
    {
     "name": "stdout",
     "output_type": "stream",
     "text": [
      "'Salem's Lot (2004) ---> 5\n",
      "'Til There Was You (1997) ---> 5\n",
      "'burbs, The (1989) ---> 5\n",
      "(500) Days of Summer (2009) ---> 5\n",
      "10 Cloverfield Lane (2016) ---> 5\n",
      "10 Things I Hate About You (1999) ---> 5\n",
      "101 Dalmatians (1996) ---> 5\n",
      "101 Dalmatians (One Hundred and One Dalmatians) (1961) ---> 5\n",
      "12 Angry Men (1957) ---> 5\n",
      "12 Angry Men (1997) ---> 5\n"
     ]
    }
   ],
   "source": [
    "db = sqlite3.connect(\"BaseDeDonnéeMovies.db\")\n",
    "    \n",
    "cursor = db.cursor()\n",
    "    \n",
    "cursor.execute(\"SELECT title, rating from movies Inner join ratings on movies.movieId=ratings.movieId WHERE rating=5 GROUP BY title limit 10\")\n",
    "\n",
    "resultat = cursor.fetchall()\n",
    "    \n",
    "for row in resultat: \n",
    "    print(\"{} ---> {}\".format(*row))\n",
    "        \n",
    "cursor.close()\n",
    "db.close()"
   ]
  },
  {
   "cell_type": "markdown",
   "metadata": {},
   "source": [
    "### FILMS AVEC LE PLUS DE TAGS"
   ]
  },
  {
   "cell_type": "code",
   "execution_count": 10,
   "metadata": {},
   "outputs": [
    {
     "name": "stdout",
     "output_type": "stream",
     "text": [
      "Pulp Fiction (1994) ---> 181\n",
      "Fight Club (1999) ---> 54\n",
      "2001: A Space Odyssey (1968) ---> 41\n",
      "Léon: The Professional (a.k.a. The Professional) (Léon) (1994) ---> 35\n",
      "Eternal Sunshine of the Spotless Mind (2004) ---> 34\n",
      "Big Lebowski, The (1998) ---> 32\n",
      "Donnie Darko (2001) ---> 29\n",
      "Star Wars: Episode IV - A New Hope (1977) ---> 26\n",
      "Inception (2010) ---> 26\n",
      "Suicide Squad (2016) ---> 19\n"
     ]
    }
   ],
   "source": [
    "db = sqlite3.connect(\"BaseDeDonnéeMovies.db\")\n",
    "\n",
    "cursor = db.cursor()\n",
    "\n",
    "cursor.execute(\"SELECT title, count(tag) as t_rate from movies Inner join tags on movies.movieId=tags.movieId GROUP BY title order by t_rate DESC limit 10\")\n",
    "\n",
    "resultat = cursor.fetchall()\n",
    "\n",
    "for row in resultat: \n",
    "    print(\"{} ---> {}\".format(*row))\n",
    "\n",
    "cursor.close()\n",
    "db.close()"
   ]
  },
  {
   "cell_type": "code",
   "execution_count": null,
   "metadata": {},
   "outputs": [],
   "source": []
  }
 ],
 "metadata": {
  "kernelspec": {
   "display_name": "Python 3",
   "language": "python",
   "name": "python3"
  },
  "language_info": {
   "codemirror_mode": {
    "name": "ipython",
    "version": 3
   },
   "file_extension": ".py",
   "mimetype": "text/x-python",
   "name": "python",
   "nbconvert_exporter": "python",
   "pygments_lexer": "ipython3",
   "version": "3.8.6"
  }
 },
 "nbformat": 4,
 "nbformat_minor": 4
}
