{
 "cells": [
  {
   "cell_type": "code",
   "execution_count": 1,
   "metadata": {},
   "outputs": [],
   "source": [
    "import sqlite3"
   ]
  },
  {
   "cell_type": "markdown",
   "metadata": {},
   "source": [
    "### NOMBRE DE FILMS DANS LA TABLE movies "
   ]
  },
  {
   "cell_type": "code",
   "execution_count": 2,
   "metadata": {},
   "outputs": [
    {
     "name": "stdout",
     "output_type": "stream",
     "text": [
      "Nombre de Films 9742\n"
     ]
    }
   ],
   "source": [
    "db = sqlite3.connect(\"BaseDeDonnéeMovies.db\")\n",
    "    \n",
    "cursor = db.cursor()\n",
    "    \n",
    "cursor.execute('select COUNT(movieId) from movies')\n",
    "\n",
    "resultat = cursor.fetchall()\n",
    "    \n",
    "for row in resultat: \n",
    "    print(\"Nombre de Films {}\".format(*row))\n",
    "    \n",
    "cursor.close()\n",
    "db.close()\n"
   ]
  },
  {
   "cell_type": "markdown",
   "metadata": {},
   "source": [
    "### NOMBRE DE FILMS PAR ANNEES"
   ]
  },
  {
   "cell_type": "code",
   "execution_count": 3,
   "metadata": {},
   "outputs": [
    {
     "name": "stdout",
     "output_type": "stream",
     "text": [
      "La colonne est déjà\n",
      "La colonne a été créée\n"
     ]
    }
   ],
   "source": [
    "try:\n",
    "    db = sqlite3.connect(\"BaseDeDonnéeMovies.db\")\n",
    "    \n",
    "    cursor = db.cursor()\n",
    "    \n",
    "    cursor.execute('ALTER TABLE movies ADD year integer') #Création colonne year dans table movies\n",
    "\n",
    "    cursor.close()\n",
    "    db.close()\n",
    "    \n",
    "except:\n",
    "    \n",
    "    print(\"La colonne est déjà\")\n",
    "    exit(1)\n",
    "        \n",
    "print(\"La colonne a été créée\")"
   ]
  },
  {
   "cell_type": "code",
   "execution_count": 4,
   "metadata": {},
   "outputs": [
    {
     "name": "stdout",
     "output_type": "stream",
     "text": [
      "Insertion effectuée\n"
     ]
    }
   ],
   "source": [
    "try:\n",
    "    \n",
    "    db = sqlite3.connect(\"BaseDeDonnéeMovies.db\")\n",
    "    \n",
    "    cursor = db.cursor()\n",
    "    \n",
    "    cursor.execute(\"UPDATE movies SET year = substr(title, -6, 6)\") # Transférer les Années dans colonne year\n",
    "\n",
    "    cursor.close()\n",
    "    db.close()\n",
    "    \n",
    "except: \n",
    "    \n",
    "    print(\"Une erreur est survenue survenue lors de l'insertion dans la base\")\n",
    "    exit(1)\n",
    "    \n",
    "print(\"Insertion effectuée\")"
   ]
  },
  {
   "cell_type": "code",
   "execution_count": 5,
   "metadata": {},
   "outputs": [
    {
     "name": "stdout",
     "output_type": "stream",
     "text": [
      "311 Films ---> (2002)\n",
      "295 Films ---> (2006)\n",
      "294 Films ---> (2001)\n",
      "283 Films ---> (2000)\n",
      "282 Films ---> (2009)\n",
      "282 Films ---> (2007)\n",
      "279 Films ---> (2004)\n",
      "279 Films ---> (2003)\n",
      "277 Films ---> (2014)\n",
      "276 Films ---> (1996)\n"
     ]
    }
   ],
   "source": [
    "db = sqlite3.connect(\"BaseDeDonnéeMovies.db\")\n",
    "    \n",
    "cursor = db.cursor()\n",
    "    \n",
    "cursor.execute(\"SELECT COUNT(DISTINCT movieId) AS 'NbFilms', year from movies WHERE year IS NOT NULL GROUP BY year ORDER BY NbFilms DESC LIMIT 10\")\n",
    "\n",
    "resultat = cursor.fetchall()\n",
    "    \n",
    "for row in resultat: \n",
    "    print(\"{} Films ---> {}\".format(*row))\n",
    "        \n",
    "cursor.close()\n",
    "db.close()"
   ]
  },
  {
   "cell_type": "markdown",
   "metadata": {},
   "source": [
    "### TOP 10 CATEGORIES - NOMBRE DE FILMS PAR GENRE"
   ]
  },
  {
   "cell_type": "code",
   "execution_count": 6,
   "metadata": {},
   "outputs": [
    {
     "name": "stdout",
     "output_type": "stream",
     "text": [
      "1053 Films ---> Drama\n",
      "946 Films ---> Comedy\n",
      "435 Films ---> Comedy|Drama\n",
      "363 Films ---> Comedy|Romance\n",
      "349 Films ---> Drama|Romance\n",
      "339 Films ---> Documentary\n",
      "276 Films ---> Comedy|Drama|Romance\n",
      "168 Films ---> Drama|Thriller\n",
      "167 Films ---> Horror\n",
      "135 Films ---> Horror|Thriller\n"
     ]
    }
   ],
   "source": [
    "db = sqlite3.connect(\"BaseDeDonnéeMovies.db\")\n",
    "    \n",
    "cursor = db.cursor()\n",
    "    \n",
    "cursor.execute(\"SELECT COUNT(DISTINCT movieId) AS 'NbFilms', genres from movies WHERE genres IS NOT NULL GROUP BY genres ORDER BY NbFilms DESC LIMIT 10\")\n",
    "\n",
    "resultat = cursor.fetchall()\n",
    "    \n",
    "for row in resultat: \n",
    "    print(\"{} Films ---> {}\".format(*row))\n",
    "        \n",
    "cursor.close()\n",
    "db.close()"
   ]
  },
  {
   "cell_type": "markdown",
   "metadata": {},
   "source": [
    "### NOMBRE DE USER ID"
   ]
  },
  {
   "cell_type": "code",
   "execution_count": 7,
   "metadata": {},
   "outputs": [
    {
     "name": "stdout",
     "output_type": "stream",
     "text": [
      "Nombre spectateurs : 610\n"
     ]
    }
   ],
   "source": [
    "db = sqlite3.connect(\"BaseDeDonnéeMovies.db\")\n",
    "    \n",
    "cursor = db.cursor()\n",
    "    \n",
    "cursor.execute(\"SELECT count(DISTINCT userId)\\\n",
    "               FROM ratings\")\n",
    "\n",
    "resultat = cursor.fetchall()\n",
    "    \n",
    "for row in resultat: \n",
    "    print(\"Nombre spectateurs : {}\".format(*row))\n",
    "        \n",
    "cursor.close()\n",
    "db.close()"
   ]
  },
  {
   "cell_type": "markdown",
   "metadata": {},
   "source": [
    "### FILMS MIEUX NOTES AVEC 30+= AVIS"
   ]
  },
  {
   "cell_type": "code",
   "execution_count": 8,
   "metadata": {},
   "outputs": [
    {
     "name": "stdout",
     "output_type": "stream",
     "text": [
      "Shawshank Redemption, The (1994) | Nombre d'avis : 317 | Moyenne : 4.429022082018927\n",
      "Lawrence of Arabia (1962) | Nombre d'avis : 45 | Moyenne : 4.3\n",
      "Godfather, The (1972) | Nombre d'avis : 192 | Moyenne : 4.2890625\n",
      "Fight Club (1999) | Nombre d'avis : 218 | Moyenne : 4.272935779816514\n",
      "Cool Hand Luke (1967) | Nombre d'avis : 57 | Moyenne : 4.271929824561403\n",
      "Dr. Strangelove or: How I Learned to Stop Worrying and Love the Bomb (1964) | Nombre d'avis : 97 | Moyenne : 4.268041237113402\n",
      "Rear Window (1954) | Nombre d'avis : 84 | Moyenne : 4.261904761904762\n",
      "Godfather: Part II, The (1974) | Nombre d'avis : 129 | Moyenne : 4.25968992248062\n",
      "Departed, The (2006) | Nombre d'avis : 107 | Moyenne : 4.252336448598131\n",
      "Goodfellas (1990) | Nombre d'avis : 126 | Moyenne : 4.25\n"
     ]
    }
   ],
   "source": [
    "db = sqlite3.connect(\"BaseDeDonnéeMovies.db\")\n",
    "    \n",
    "cursor = db.cursor()\n",
    "    \n",
    "cursor.execute(\"SELECT title, count(rating), avg(rating)\\\n",
    "               FROM movies Inner join ratings on movies.movieId=ratings.movieId\\\n",
    "               GROUP BY title\\\n",
    "               HAVING count(rating) > 30\\\n",
    "               ORDER BY avg(rating) DESC\\\n",
    "               LIMIT 10\")\n",
    "\n",
    "resultat = cursor.fetchall()\n",
    "    \n",
    "for row in resultat: \n",
    "    print(\"{} | Nombre d'avis : {} | Moyenne : {}\".format(*row))\n",
    "        \n",
    "cursor.close()\n",
    "db.close()"
   ]
  },
  {
   "cell_type": "markdown",
   "metadata": {},
   "source": [
    "### LES FILMS DE 2018 DONT LA MOYENNE DEPASSE 4"
   ]
  },
  {
   "cell_type": "code",
   "execution_count": 9,
   "metadata": {},
   "outputs": [
    {
     "name": "stdout",
     "output_type": "stream",
     "text": [
      "Won't You Be My Neighbor? (2018) ---> 5.0\n",
      "Tom Segura: Disgraceful (2018) ---> 4.5\n",
      "The Man Who Killed Don Quixote (2018) ---> 4.5\n",
      "Sorry to Bother You (2018) ---> 4.5\n",
      "Mamma Mia: Here We Go Again! (2018) ---> 4.5\n",
      "Alpha (2018) ---> 4.5\n"
     ]
    }
   ],
   "source": [
    "db = sqlite3.connect(\"BaseDeDonnéeMovies.db\")\n",
    "    \n",
    "cursor = db.cursor()\n",
    "    \n",
    "cursor.execute(\"SELECT title, avg(rating)\\\n",
    "                FROM movies Inner join ratings on movies.movieId=ratings.movieId\\\n",
    "                WHERE year = '(2018)'\\\n",
    "                GROUP BY title\\\n",
    "                HAVING avg(rating) > 4\\\n",
    "                ORDER BY avg(rating) DESC\")\n",
    "\n",
    "resultat = cursor.fetchall()\n",
    "    \n",
    "for row in resultat: \n",
    "    print(\"{} ---> {}\".format(*row))\n",
    "        \n",
    "cursor.close()\n",
    "db.close()"
   ]
  },
  {
   "cell_type": "markdown",
   "metadata": {},
   "source": [
    "### FILMS MOINS BIEN NOTES AVEC 30+= AVIS"
   ]
  },
  {
   "cell_type": "code",
   "execution_count": 10,
   "metadata": {},
   "outputs": [
    {
     "name": "stdout",
     "output_type": "stream",
     "text": [
      "Godzilla (1998) | Nombre d'avis : 33 | Moyenne : 1.9545454545454546\n",
      "I Know What You Did Last Summer (1997) | Nombre d'avis : 32 | Moyenne : 2.109375\n",
      "Wild Wild West (1999) | Nombre d'avis : 53 | Moyenne : 2.207547169811321\n",
      "Batman & Robin (1997) | Nombre d'avis : 42 | Moyenne : 2.2142857142857144\n",
      "Hollow Man (2000) | Nombre d'avis : 39 | Moyenne : 2.2948717948717947\n",
      "Flintstones, The (1994) | Nombre d'avis : 42 | Moyenne : 2.357142857142857\n",
      "Free Willy (1993) | Nombre d'avis : 37 | Moyenne : 2.391891891891892\n",
      "Striptease (1996) | Nombre d'avis : 41 | Moyenne : 2.4146341463414633\n",
      "Coneheads (1993) | Nombre d'avis : 63 | Moyenne : 2.4206349206349205\n",
      "Showgirls (1995) | Nombre d'avis : 35 | Moyenne : 2.4714285714285715\n"
     ]
    }
   ],
   "source": [
    "db = sqlite3.connect(\"BaseDeDonnéeMovies.db\")\n",
    "    \n",
    "cursor = db.cursor()\n",
    "    \n",
    "cursor.execute(\"SELECT title, count(rating), avg(rating)\\\n",
    "               FROM movies Inner join ratings on movies.movieId=ratings.movieId\\\n",
    "               GROUP BY title\\\n",
    "               HAVING count(rating) > 30\\\n",
    "               ORDER BY avg(rating) ASC\\\n",
    "               LIMIT 10\")\n",
    "\n",
    "resultat = cursor.fetchall()\n",
    "    \n",
    "for row in resultat: \n",
    "    print(\"{} | Nombre d'avis : {} | Moyenne : {}\".format(*row))\n",
    "        \n",
    "cursor.close()\n",
    "db.close()"
   ]
  },
  {
   "cell_type": "markdown",
   "metadata": {},
   "source": [
    "### FILMS AVEC LE PLUS D'AVIS ET MOYENNE"
   ]
  },
  {
   "cell_type": "code",
   "execution_count": 11,
   "metadata": {},
   "outputs": [
    {
     "name": "stdout",
     "output_type": "stream",
     "text": [
      "Forrest Gump (1994) | Nombre d'avis : 329 | Moyenne : 4.164133738601824\n",
      "Shawshank Redemption, The (1994) | Nombre d'avis : 317 | Moyenne : 4.429022082018927\n",
      "Pulp Fiction (1994) | Nombre d'avis : 307 | Moyenne : 4.197068403908795\n",
      "Silence of the Lambs, The (1991) | Nombre d'avis : 279 | Moyenne : 4.161290322580645\n",
      "Matrix, The (1999) | Nombre d'avis : 278 | Moyenne : 4.192446043165468\n",
      "Star Wars: Episode IV - A New Hope (1977) | Nombre d'avis : 251 | Moyenne : 4.231075697211155\n",
      "Jurassic Park (1993) | Nombre d'avis : 238 | Moyenne : 3.75\n",
      "Braveheart (1995) | Nombre d'avis : 237 | Moyenne : 4.031645569620253\n",
      "Terminator 2: Judgment Day (1991) | Nombre d'avis : 224 | Moyenne : 3.970982142857143\n",
      "Schindler's List (1993) | Nombre d'avis : 220 | Moyenne : 4.225\n"
     ]
    }
   ],
   "source": [
    "db = sqlite3.connect(\"BaseDeDonnéeMovies.db\")\n",
    "    \n",
    "cursor = db.cursor()\n",
    "    \n",
    "cursor.execute(\"SELECT title, count(rating), avg(rating)\\\n",
    "               FROM movies Inner join ratings on movies.movieId=ratings.movieId\\\n",
    "               GROUP BY title\\\n",
    "               ORDER BY count(rating) DESC\\\n",
    "               LIMIT 10\")\n",
    "\n",
    "resultat = cursor.fetchall()\n",
    "    \n",
    "for row in resultat: \n",
    "    print(\"{} | Nombre d'avis : {} | Moyenne : {}\".format(*row))\n",
    "        \n",
    "cursor.close()\n",
    "db.close()"
   ]
  },
  {
   "cell_type": "markdown",
   "metadata": {},
   "source": [
    "### FILMS AVEC LE PLUS DE TAGS"
   ]
  },
  {
   "cell_type": "code",
   "execution_count": 12,
   "metadata": {},
   "outputs": [
    {
     "name": "stdout",
     "output_type": "stream",
     "text": [
      "Pulp Fiction (1994) ---> 181\n",
      "Fight Club (1999) ---> 54\n",
      "2001: A Space Odyssey (1968) ---> 41\n",
      "Léon: The Professional (a.k.a. The Professional) (Léon) (1994) ---> 35\n",
      "Eternal Sunshine of the Spotless Mind (2004) ---> 34\n",
      "Big Lebowski, The (1998) ---> 32\n",
      "Donnie Darko (2001) ---> 29\n",
      "Star Wars: Episode IV - A New Hope (1977) ---> 26\n",
      "Inception (2010) ---> 26\n",
      "Suicide Squad (2016) ---> 19\n"
     ]
    }
   ],
   "source": [
    "db = sqlite3.connect(\"BaseDeDonnéeMovies.db\")\n",
    "    \n",
    "cursor = db.cursor()\n",
    "    \n",
    "cursor.execute(\"SELECT title, count(tag) as t_rate\\\n",
    "               FROM movies Inner join tags on movies.movieId=tags.movieId\\\n",
    "               GROUP BY title order by t_rate\\\n",
    "               DESC limit 10\")\n",
    "\n",
    "resultat = cursor.fetchall()\n",
    "    \n",
    "for row in resultat: \n",
    "    print(\"{} ---> {}\".format(*row))\n",
    "        \n",
    "cursor.close()\n",
    "db.close()"
   ]
  },
  {
   "cell_type": "markdown",
   "metadata": {},
   "source": [
    "### NOMBRE D'AVIS PAR USER ID"
   ]
  },
  {
   "cell_type": "code",
   "execution_count": 13,
   "metadata": {},
   "outputs": [
    {
     "name": "stdout",
     "output_type": "stream",
     "text": [
      "UserId : 414 | Nombre d'avis : 2698\n",
      "UserId : 599 | Nombre d'avis : 2478\n",
      "UserId : 474 | Nombre d'avis : 2108\n",
      "UserId : 448 | Nombre d'avis : 1864\n",
      "UserId : 274 | Nombre d'avis : 1346\n",
      "UserId : 610 | Nombre d'avis : 1302\n",
      "UserId : 68 | Nombre d'avis : 1260\n",
      "UserId : 380 | Nombre d'avis : 1218\n",
      "UserId : 606 | Nombre d'avis : 1115\n",
      "UserId : 288 | Nombre d'avis : 1055\n"
     ]
    }
   ],
   "source": [
    "db = sqlite3.connect(\"BaseDeDonnéeMovies.db\")\n",
    "    \n",
    "cursor = db.cursor()\n",
    "    \n",
    "cursor.execute(\"SELECT userId, count(userId) as c_user\\\n",
    "               FROM ratings\\\n",
    "               GROUP BY userId\\\n",
    "               ORDER BY c_user DESC\\\n",
    "               LIMIT 10\")\n",
    "\n",
    "resultat = cursor.fetchall()\n",
    "    \n",
    "for row in resultat: \n",
    "    print(\"UserId : {} | Nombre d'avis : {}\".format(*row))\n",
    "        \n",
    "cursor.close()\n",
    "db.close()"
   ]
  },
  {
   "cell_type": "code",
   "execution_count": null,
   "metadata": {},
   "outputs": [],
   "source": []
  }
 ],
 "metadata": {
  "kernelspec": {
   "display_name": "Python 3",
   "language": "python",
   "name": "python3"
  },
  "language_info": {
   "codemirror_mode": {
    "name": "ipython",
    "version": 3
   },
   "file_extension": ".py",
   "mimetype": "text/x-python",
   "name": "python",
   "nbconvert_exporter": "python",
   "pygments_lexer": "ipython3",
   "version": "3.8.6"
  }
 },
 "nbformat": 4,
 "nbformat_minor": 4
}
