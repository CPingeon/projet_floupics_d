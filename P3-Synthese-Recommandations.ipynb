{
 "cells": [
  {
   "cell_type": "markdown",
   "metadata": {},
   "source": [
    "## SYNTHESE"
   ]
  },
  {
   "cell_type": "markdown",
   "metadata": {},
   "source": [
    "### Inconvénients : \n",
    "\n",
    "Structure de la colonne Titre : années entre parenthèses non dissociées ---> Problématique pour les requêtes SQL\n",
    "\n",
    "### Recommandations :\n",
    "\n",
    "Il serait intéressant d'avoir les données suivantes dans la Base Données  :\n",
    "\n",
    "        - Pays d'origine \n",
    "        - VO VOSTFR VF\n",
    "        - Réalisateurs\n",
    "        - Acteurs principaux\n",
    " \n",
    "Structure de la colonne Genres à optimiser :\n",
    "\n",
    "        - Splitter chaque genre dans des colonnes Genre 1 / Genre 2 / Genre 3...\n",
    "        \n",
    "Les fichiers Movies et Links peuvent être associés dans le même fichier.     \n",
    "  "
   ]
  },
  {
   "cell_type": "code",
   "execution_count": null,
   "metadata": {},
   "outputs": [],
   "source": []
  }
 ],
 "metadata": {
  "kernelspec": {
   "display_name": "Python 3",
   "language": "python",
   "name": "python3"
  },
  "language_info": {
   "codemirror_mode": {
    "name": "ipython",
    "version": 3
   },
   "file_extension": ".py",
   "mimetype": "text/x-python",
   "name": "python",
   "nbconvert_exporter": "python",
   "pygments_lexer": "ipython3",
   "version": "3.8.6"
  }
 },
 "nbformat": 4,
 "nbformat_minor": 4
}
