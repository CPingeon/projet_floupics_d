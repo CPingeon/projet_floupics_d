{
 "cells": [
  {
   "cell_type": "markdown",
   "metadata": {},
   "source": [
    "## SYNTHESE"
   ]
  },
  {
   "cell_type": "markdown",
   "metadata": {},
   "source": [
    "Nombre de films dans la table Movie\n",
    "==\n",
    "Cette requête nous permet de connaître le nombre total de films sur lequel nous allons travailler.\n",
    "\n",
    "Nombre de films par années\n",
    "==\n",
    "Cela nous permet de savoir si on allons principalement travailler avec des films anciens ou récents, nous voyons que la majorité des films sont postérieurs à 2000.\n",
    "\n",
    "Films de 2018 dont la note est > 4\n",
    "==\n",
    "Cela nous permet de connaître les derniers films sortis où la moyenne dépasse 4, dont ce sont des films récents et bien notés par le public.\n",
    "\n",
    "Films avec le plus de tags\n",
    "==\n",
    "Ce permet de connaître les films qui ont reçu le plus de tags différents par les utilisateurs, cela peut permettre de mesurer la popularité où la \"diversité thématique\" du film\n",
    "\n",
    "Nombre de films par genre\n",
    "==\n",
    "Cela permet de connaître les genres les plus représentés dans la base de données. Nous voyons qu'il y a beaucoup de drames et de comédies dans cette liste.\n",
    "\n",
    "Nombre de UserId\n",
    "==\n",
    "Cela permet de connaître les nombre de spectateurs qui ont noté au moins 1 film dans la BD.\n",
    "\n",
    "Films mieux notés 30+=avis\n",
    "==\n",
    "Cela permet de connaître les films les mieux notés de tous les temps, avec un minimum de 30 avis, c'est-à-dire que le film a été noté par suffisamment de personnes et que la note est représentative.\n",
    "\n",
    "Films moins bien notés 30+=avis\n",
    "==\n",
    "Cela permet de connaître les films \"connus\" car notés par beaucoup de personnes mais qui ont reçu un mauvais avis.\n",
    "\n",
    "Films avec les plus d'avis et moyenne\n",
    "==\n",
    "Permet de connaître les 10 films les plus notés ainsi que leur moyenne. On peut donc juger de la popularité des films.\n",
    "\n",
    "Nombre d'avis par user ID\n",
    "==\n",
    "Permet de connaître les utilisateurs les plus \"cinéphiles\", ceux qui ont noté le plus de films."
   ]
  }
 ],
 "metadata": {
  "kernelspec": {
   "display_name": "Python 3",
   "language": "python",
   "name": "python3"
  },
  "language_info": {
   "codemirror_mode": {
    "name": "ipython",
    "version": 3
   },
   "file_extension": ".py",
   "mimetype": "text/x-python",
   "name": "python",
   "nbconvert_exporter": "python",
   "pygments_lexer": "ipython3",
   "version": "3.8.6"
  }
 },
 "nbformat": 4,
 "nbformat_minor": 4
}
