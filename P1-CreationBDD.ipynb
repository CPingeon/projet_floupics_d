{
 "cells": [
  {
   "cell_type": "markdown",
   "metadata": {},
   "source": [
    "# PROJET FLOUPICS"
   ]
  },
  {
   "cell_type": "markdown",
   "metadata": {},
   "source": [
    "## LIBRAIRIES UTILISEES"
   ]
  },
  {
   "cell_type": "code",
   "execution_count": 2,
   "metadata": {},
   "outputs": [],
   "source": [
    "# importe les bibliothèques.\n",
    "import sqlite3\n",
    "import csv\n",
    "import time"
   ]
  },
  {
   "cell_type": "markdown",
   "metadata": {},
   "source": [
    "## création la base de données Movie et les tables movies, ratings, tags, liks:"
   ]
  },
  {
   "cell_type": "code",
   "execution_count": 3,
   "metadata": {},
   "outputs": [
    {
     "name": "stdout",
     "output_type": "stream",
     "text": [
      "La base de données a été créée\n"
     ]
    }
   ],
   "source": [
    "try:\n",
    "    # Connect to data base\n",
    "    db = sqlite3.connect('BaseDeDonnéeMovies.db')\n",
    "    \n",
    "    cursor = db.cursor()\n",
    "       \n",
    "    # Create movies table\n",
    "    cursor.execute('''CREATE TABLE IF NOT EXISTS movies (\n",
    "    \n",
    "    movieId integer primary key,\n",
    "    title text,\n",
    "    genres text)''')\n",
    "\n",
    "    # create ratings Table    \n",
    "    cursor.execute('''CREATE TABLE IF NOT EXISTS ratings (\n",
    "\n",
    "    userId integer,\n",
    "    movieId integer,\n",
    "    rating float,\n",
    "    timestamp integer,\n",
    "    foreign key(movieId) REFERENCES movies(movieId))''')\n",
    "    \n",
    "    # Create tags Table\n",
    "    cursor.execute('''CREATE TABLE IF NOT EXISTS tags (\n",
    "\n",
    "    userId integer,\n",
    "    movieId integer,\n",
    "    tag text,\n",
    "    timestamp integer,\n",
    "    foreign key(movieId) REFERENCES movies(movieId))''')\n",
    "    \n",
    "   #Create links table:\n",
    "    cursor.execute('''CREATE TABLE IF NOT EXISTS links (\n",
    "\n",
    "    movieId integer,\n",
    "    imdbId integer,\n",
    "    tmdbId integer,\n",
    "    foreign key(movieId) REFERENCES movies(movieId))''')\n",
    "    \n",
    "    # saugarde les changement     \n",
    "    db.commit()\n",
    "    \n",
    "    # Fermer le cursor\n",
    "    cursor.close()\n",
    "    \n",
    "    # Fermer la base de donne\n",
    "    db.close()\n",
    "\n",
    "except:\n",
    "    print(\"Une erreur est survenue lors de la creation de la base\")\n",
    "    exit(1)\n",
    "    \n",
    "print(\"La base de données a été créée\")"
   ]
  },
  {
   "cell_type": "markdown",
   "metadata": {},
   "source": [
    "## INSERtion DES DONNEES DANS UNE BDD BaseDeDonnéeMovies"
   ]
  },
  {
   "cell_type": "markdown",
   "metadata": {},
   "source": [
    "  ### insert les donnes dans la table movies"
   ]
  },
  {
   "cell_type": "code",
   "execution_count": 1,
   "metadata": {},
   "outputs": [
    {
     "name": "stdout",
     "output_type": "stream",
     "text": [
      "Une erreur est survenue survenue lors de l'insertion dans la base\n",
      "Insertion effectuée\n"
     ]
    }
   ],
   "source": [
    "try:\n",
    "    db = sqlite3.connect('BaseDeDonnéeMovies.db')\n",
    "    print(\"Opened database successfully\")\n",
    "\n",
    "    cursor = db.cursor()\n",
    "\n",
    "    filename = 'data/movies.csv'\n",
    "    with open(filename, newline='', encoding='utf-8') as csvfile:\n",
    "        reader = csv.DictReader(csvfile, delimiter=',')\n",
    "        for row in reader:\n",
    "            cursor.execute('''INSERT INTO movies (movieId,title,genres) VALUES(?,?,?)''',[row['movieId'],row['title'],row['genres']])\n",
    "\n",
    "        db.commit()\n",
    "\n",
    "        cursor.close()\n",
    "\n",
    "        db.close()\n",
    "except: \n",
    "    \n",
    "    print(\"Une erreur est survenue survenue lors de l'insertion dans la base\")\n",
    "    exit(1)\n",
    "    \n",
    "print(\"Insertion effectuée\")"
   ]
  },
  {
   "cell_type": "markdown",
   "metadata": {},
   "source": [
    "## INSERTION DONNEES FICHIER ratings.csv"
   ]
  },
  {
   "cell_type": "code",
   "execution_count": 5,
   "metadata": {},
   "outputs": [
    {
     "name": "stdout",
     "output_type": "stream",
     "text": [
      "Opened database successfully\n",
      "Insertion effectuée\n"
     ]
    }
   ],
   "source": [
    "try:\n",
    "    db = sqlite3.connect('BaseDeDonnéeMovies.db')\n",
    "    print(\"Opened database successfully\")\n",
    "\n",
    "    cursor = db.cursor()\n",
    "\n",
    "    nomfichier = 'data/ratings.csv'\n",
    "    \n",
    "    with open(nomfichier, newline='', encoding='utf-8') as csvfile:\n",
    "        reader = csv.DictReader(csvfile, delimiter=',')\n",
    "        for row in reader:\n",
    "            cursor.execute('''INSERT INTO ratings (userId, movieId, rating, timestamp) VALUES(?,?,?,?)''',[row['userId'],row['movieId'],row['rating'],row['timestamp']])\n",
    "\n",
    "        db.commit()\n",
    "\n",
    "        cursor.close()\n",
    "\n",
    "        db.close()\n",
    "except: \n",
    "    \n",
    "    print(\"Une erreur est survenue survenue lors de l'insertion dans la base\")\n",
    "    exit(1)\n",
    "    \n",
    "print(\"Insertion effectuée\")"
   ]
  },
  {
   "cell_type": "markdown",
   "metadata": {},
   "source": [
    "## INSERTION DONNEES FICHIER links.csv"
   ]
  },
  {
   "cell_type": "code",
   "execution_count": 7,
   "metadata": {},
   "outputs": [
    {
     "name": "stdout",
     "output_type": "stream",
     "text": [
      "Opened database successfully\n",
      "Insertion effectuée\n"
     ]
    }
   ],
   "source": [
    "try:\n",
    "    db = sqlite3.connect('BaseDeDonnéeMovies.db')\n",
    "    print(\"Opened database successfully\")\n",
    "\n",
    "    cursor = db.cursor()\n",
    "\n",
    "    nomfichier = 'data/links.csv'\n",
    "    \n",
    "    with open(nomfichier, newline='', encoding='utf-8') as csvfile:\n",
    "        reader = csv.DictReader(csvfile, delimiter=',')\n",
    "        for row in reader:\n",
    "            cursor.execute('''INSERT INTO links (movieId, imdbId, tmdbId) VALUES(?,?,?)''',[row['movieId'],row['imdbId'],row['tmdbId']])\n",
    "\n",
    "        db.commit()\n",
    "\n",
    "        cursor.close()\n",
    "\n",
    "        db.close()\n",
    "except: \n",
    "    \n",
    "    print(\"Une erreur est survenue survenue lors de l'insertion dans la base\")\n",
    "    exit(1)\n",
    "    \n",
    "print(\"Insertion effectuée\")"
   ]
  },
  {
   "cell_type": "markdown",
   "metadata": {},
   "source": [
    "## INSERTION DONNEES FICHIER tags.csv"
   ]
  },
  {
   "cell_type": "code",
   "execution_count": 9,
   "metadata": {},
   "outputs": [
    {
     "name": "stdout",
     "output_type": "stream",
     "text": [
      "Opened database successfully\n",
      "Insertion effectuée\n"
     ]
    }
   ],
   "source": [
    "try:\n",
    "    db = sqlite3.connect('BaseDeDonnéeMovies.db')\n",
    "    print(\"Opened database successfully\")\n",
    "\n",
    "    cursor = db.cursor()\n",
    "\n",
    "    nomfichier = 'data/tags.csv'\n",
    "    \n",
    "    with open(nomfichier, newline='', encoding='utf-8') as csvfile:\n",
    "        reader = csv.DictReader(csvfile, delimiter=',')\n",
    "        for row in reader:\n",
    "            cursor.execute('''INSERT INTO tags (userId, movieId, tag, timestamp) VALUES(?,?,?,?)''',[row['userId'],row['movieId'],row['tag'],row['timestamp']])\n",
    "\n",
    "        db.commit()\n",
    "\n",
    "        cursor.close()\n",
    "\n",
    "        db.close()\n",
    "except: \n",
    "    \n",
    "    print(\"Une erreur est survenue survenue lors de l'insertion dans la base\")\n",
    "    exit(1)\n",
    "    \n",
    "print(\"Insertion effectuée\")"
   ]
  },
  {
   "cell_type": "code",
   "execution_count": null,
   "metadata": {},
   "outputs": [],
   "source": []
  }
 ],
 "metadata": {
  "kernelspec": {
   "display_name": "Python 3",
   "language": "python",
   "name": "python3"
  },
  "language_info": {
   "codemirror_mode": {
    "name": "ipython",
    "version": 3
   },
   "file_extension": ".py",
   "mimetype": "text/x-python",
   "name": "python",
   "nbconvert_exporter": "python",
   "pygments_lexer": "ipython3",
   "version": "3.8.6"
  }
 },
 "nbformat": 4,
 "nbformat_minor": 4
}
